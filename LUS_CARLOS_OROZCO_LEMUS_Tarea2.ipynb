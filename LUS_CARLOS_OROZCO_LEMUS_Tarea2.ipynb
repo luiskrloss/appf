{
  "nbformat": 4,
  "nbformat_minor": 0,
  "metadata": {
    "colab": {
      "provenance": [],
      "include_colab_link": true
    },
    "kernelspec": {
      "name": "python3",
      "display_name": "Python 3"
    },
    "language_info": {
      "name": "python"
    }
  },
  "cells": [
    {
      "cell_type": "markdown",
      "metadata": {
        "id": "view-in-github",
        "colab_type": "text"
      },
      "source": [
        "<a href=\"https://colab.research.google.com/github/luiskrloss/appf/blob/main/LUS_CARLOS_OROZCO_LEMUS_Tarea2.ipynb\" target=\"_parent\"><img src=\"https://colab.research.google.com/assets/colab-badge.svg\" alt=\"Open In Colab\"/></a>"
      ]
    },
    {
      "cell_type": "markdown",
      "source": [
        "<div align=\"left\">\n",
        "<p><img alt=\"IUDigital\" height=\"140px\" src=\"https://www.iudigital.edu.co/Style%20Library/images/logo-escudo.png\" align=\"left\" hspace=\"10px\" vspace=\"0px\"></p></div>\n",
        "<div> </div>\n",
        "<div align=\"right\">\n",
        "<p><img alt=\"Posgrado\" height=\"140px\" src=\"https://www.iudigital.edu.co/OfertaEducativa/PublishingImages/Paginas/Tecnologia-en-Desarrollo-de-Software/19072021_Tecnologia_Dllo_Software_1200px.jpg\" align=\"right\" hspace=\"10px\" vspace=\"10px\"></p></div>\n",
        "<br></br>\n",
        "<br></br>\n",
        "<br></br>\n",
        "<br></br>\n",
        "<p>\n",
        "<h1> <b> Pensamiento Algorítmico </b> </h1>\n",
        "<hr size=10 noshade color=\"red\">\n",
        "</p>\n",
        "<p>\n",
        "<img alt=\"CC\" height=\"70px\" src=\"https://creativecommons.org/images/deed/cc_blue_x2.png\" align=\"left\" hspace=\"0px\" vspace=\"0px\">\n",
        "<img alt=\"Attribution\" height=\"70px\" src=\"https://creativecommons.org/images/deed/attribution_icon_blue_x2.png\" align=\"left\" hspace=\"0px\" vspace=\"0px\">\n",
        "<img alt=\"NC\" height=\"70px\" src=\"https://creativecommons.org/images/deed/nc_blue_x2.png\" align=\"left\" hspace=\"0px\" vspace=\"0px\">\n",
        "<img alt=\"SA\" height=\"70px\" src=\"https://creativecommons.org/images/deed/sa_blue_x2.png\" align=\"left\" hspace=\"0px\" vspace=\"0px\">\n",
        "</p>\n",
        "\n",
        "<br>"
      ],
      "metadata": {
        "id": "VuipZbrNx6G9"
      }
    },
    {
      "cell_type": "markdown",
      "metadata": {
        "id": "Pm5smIuSNTUw"
      },
      "source": [
        "# **Tarea 2**\n",
        "\n",
        "> Temas: Condicionales (estructuras de control) y colecciones de Python.\n",
        "\n",
        "Antes de resolver los ejercicios de esta tarea es importante:\n",
        "\n",
        "1. Haber asistido de manera sincrónica o haber visto las grabaciones de todas las clases y AAA de las semanas 1 a 4.\n",
        "2. Leer toda la Unidad 1 de los módulos en Canvas y la Unidad 2 por lo menos hasta el módulo: *Estructuras de almacenamiento. Métodos de Conjuntos*\n",
        "3. Leer e interactuar con el cuaderno de práctica 4, disponible en el Google Classroom.\n",
        "4. Haber realizado correctamente la Tarea 1.\n",
        "\n",
        "Al inicio de cada ejercicio se encuentra el porcentaje de ponderación con el cual se calculará la nota final de esta tarea."
      ]
    },
    {
      "cell_type": "markdown",
      "source": [
        "# (20%) Ejercicio 1\n",
        "Vamos a mejorar la solución del Ejercicio 1 - Tarea 1.\n",
        "Realice conversiones entre las unidades de medida presentadas en la siguiente tabla:\n",
        "\n",
        "| Índice | Conversión                           | Factor |\n",
        "|:------:|--------------------------------------|:------:|\n",
        "| 0      | Kilómetro a metro                    | 1000   |\n",
        "| 1      | Centímetro a metro                   | 0.01   |\n",
        "| 2      | Kilómetro por hora a millas por hora | 0.62   |\n",
        "| 3      | Nota en Educatic a nota en Canvas    | 20     |\n",
        "| 4      | Nota en Canvas a nota en Educatic    | 0.05   |\n",
        "| 5      | Mililitro a centímetro cúbico        | 1      |\n",
        "| 6      | Dólar (USA) a peso colombiano        |Actualizar|\n",
        "| 7      | Peso colombiano a dólar (USA)        |Actualizar|\n",
        "| 8      | Libra a kilogramo                    | 0.45   |\n",
        "| 9     | Minuto luz a kilómetro               | 17987539.67|\n",
        "\n",
        "Para este ejercicio se deben almacenar los factores de conversión en un vector (tipo de dato ```list``` de Python) para luego:\n",
        "\n",
        "- Solicitar al usuario que escoja el tipo de conversión que quiere realizar, para esto hay dos opciones:\n",
        " - Si trabajas en Google Colab puedes usar una lista desplegable, que es un tipo de campo de [formulario](https://www.youtube.com/watch?v=vx7yOZ5_Cw8) llamado *dropdown*\n",
        " - Si trabajas en otro editor puedes imprimir un menú de opciones numeradas y solicitarle al usuario que ingrese con ```input```el número de la opción que le interesa.\n",
        "\n",
        "- Solicitar al usuario que ingrese por formulario el dato que quiere convertir.\n",
        "- Realizar una estructura de selección que convierta el dato ingresado por el usuario según el tipo de conversión que ha escogido.\n",
        "\n",
        "Al igual que en la Tarea 1, se debe acceder al factor de conversión correspondiente de acuerdo a su posición o índice en el vector de factores de conversión.\n"
      ],
      "metadata": {
        "id": "bKdLoL-voFJb"
      }
    },
    {
      "cell_type": "code",
      "source": [
        "#@title datos de conversion\n",
        "eleccion=\"minuto luz a kilometro\" #@param [\"kilometro a metro\", \"centimetro a metro\", \"kilometros hora a millas hora\", \"nota  educatic a nota canvas\", \"nota canvas a nota educatic\", \"mililitro a centimetro cubico\", \"us dolar a peso colombiano\", \"peso colombiano a  us dolar\", \"libra a kilogramo\", \"minuto luz a kilometro\"]\n",
        "\n",
        "valores=[1000,0.01,0.62,20,0.05,1,4200,0.0002,0.45,17987539.67]\n",
        "\n",
        "datos= float(input(\"ingrese el valor a convertir \"))\n",
        "\n",
        "if (eleccion==\"kilometro a metro\"):\n",
        "    resultado= datos * valores[0]\n",
        "    print(\"el valor equivalente de convertir es\", resultado, \" metros\")\n",
        "\n",
        "elif (eleccion==\"centimetro a metro\"):\n",
        "    resultado= datos * valores[1]\n",
        "    print(\"el valor equivalente de convertir es\", resultado, \" metros\")\n",
        "\n",
        "elif (eleccion==\"kilometros hora a millas hora\"):\n",
        "    resultado= datos * valores[2]\n",
        "    print(\"el valor equivalente de convertir es\", resultado, \" millas hora\")\n",
        "\n",
        "elif (eleccion==\"nota educatic a nota canvas\"):\n",
        "    resultado= datos * valores[3]\n",
        "    print(\"el valor equivalente de convertir es\", resultado, \" notas en canvas\")\n",
        "\n",
        "elif (eleccion==\" nota canvas a nota educatic\"):\n",
        "    resultado= datos * valores[4]\n",
        "    print(\"el valor equivalente de convertir es\", resultado, \" notas en educatic\")\n",
        "\n",
        "elif (eleccion==\"mililitro a centimetro cubico\"):\n",
        "    resultado= datos * valores[5]\n",
        "    print(\"el valor equivalente de convertir es\", resultado, \" centimetros cubicos\")\n",
        "\n",
        "elif (eleccion==\"us dolar a peso colombiano\"):\n",
        "    resultado= datos * valores[6]\n",
        "    print(\"el valor equivalente de convertir es\", resultado, \" pesos colombianos\")\n",
        "\n",
        "elif (eleccion==\"peso colombiano a us dolar\"):\n",
        "    resultado= datos * valores[7]\n",
        "    print(\"el valor equivalente de convertir es\", resultado, \" us dolar\")\n",
        "\n",
        "elif (eleccion==\"libra a kilogramo\"):\n",
        "    resultado= datos * valores[8]\n",
        "    print(\"el valor equivalente de convertir es\", resultado, \" kilogramo\")\n",
        "\n",
        "elif (eleccion==\"minuto luz a kilometro\"):\n",
        "    resultado= datos * valores[9]\n",
        "    print(\"el valor equivalente de convertir es\", resultado, \" kilometros\")\n",
        "\n",
        "\n",
        "\n"
      ],
      "metadata": {
        "id": "DI-7bqMszeeV",
        "colab": {
          "base_uri": "https://localhost:8080/"
        },
        "outputId": "ea986e8c-0a3a-417e-c44a-0edbc6e6d666"
      },
      "execution_count": 12,
      "outputs": [
        {
          "output_type": "stream",
          "name": "stdout",
          "text": [
            "ingrese el valor a convertir 25\n",
            "el valor equivalente de convertir es 449688491.75000006  kilometro\n"
          ]
        }
      ]
    },
    {
      "cell_type": "markdown",
      "source": [
        "# (20%) Ejercicio 2\n",
        "\n",
        "La tienda de videojuegos “MeroGamers” ofrece descuentos a sus compradores de acuerdo con la consola y la cantidad de videojuegos comprados.\n",
        "La tienda vende juegos nuevos para tres consolas con sus respectivos precios en dólares (USD)\n",
        "\n",
        "*   Nintendo Switch\n",
        ">*   Valor juego \\$60USD\n",
        "*   Xbox Series X|S\n",
        ">*   Valor juego \\$60USD\n",
        "*   Play Station 5\n",
        ">*   Valor juego \\$70USD\n",
        "\n",
        "La tienda ofrece descuentos de acuerdo con los siguientes criterios.\n",
        "\n",
        "*   Descuento del 10%\n",
        ">*   La tienda ofrece un descuento del 10% si compra dos juegos de cualquier consola o dos juegos de diferente consola.\n",
        "*   Descuento del 20%\n",
        ">*   La tienda ofrece un descuento del 20% si sucede alguna de las siguientes opciones:\n",
        ">>*   Compra tres juegos de una única consola cualquiera.\n",
        ">>*   Compra dos juegos de una misma consola y uno de otra consola diferente.\n",
        "*   Descuento del 30%\n",
        ">*   La tienda ofrece un descuento del 30% si realiza compras superiores a \\$250 USD, pero debe comprar juegos de al menos dos consolas.\n",
        "*   Descuento del 40%\n",
        ">*   La tienda ofrece un descuento del 40% si realiza compras superiores a \\$2500 USD sin limitaciones.\n",
        "\n",
        "\n",
        "Realizar un algoritmo el cual, mediante el uso de formularios, permita:\n",
        "* Determinar la cantidad de juegos comprados\n",
        "* Calcular el valor total antes de descuento y sin iva\n",
        "* Calcular el valor del descuento\n",
        "* Adicionar un IVA de un 19% al monto total de la compra después de haber adicionado el descuento.\n",
        "\n",
        "La impresión de los resultados debe ser multilínea usando caracteres especiales.\n"
      ],
      "metadata": {
        "id": "DcMoHWegYPDU"
      }
    },
    {
      "cell_type": "code",
      "source": [
        "# Desarrolle su ejercicio aquí.\n"
      ],
      "metadata": {
        "id": "KXTJ4OTc2Q2G"
      },
      "execution_count": null,
      "outputs": []
    },
    {
      "cell_type": "markdown",
      "source": [
        "# (20%) Ejercicio 3\n",
        "\n",
        "Propiedades de los triángulos.\n",
        "*   Si tenemos tres segmentos de cualquier longitud, no siempre se puede construir un triángulo con ellos. En cualquier triángulo, la suma de dos de sus lados siempre es mayor que el tercer lado.\n",
        "*   La suma de los ángulos de un triángulo es igual a 180°.\n",
        "\n",
        "De acuerdo con la información descrita previamente, y haciendo uso de la función `input` realizar un algoritmo que reciba tres lados y tres ángulos y determine si puede dibujarse un triángulo, en caso contrario indicar qué  problemas presenta.\n",
        "\n"
      ],
      "metadata": {
        "id": "nHnp-5M12S5O"
      }
    },
    {
      "cell_type": "code",
      "source": [
        "# Desarrolle su ejercicio aquí.\n"
      ],
      "metadata": {
        "id": "EHCmPjlU2Ruz"
      },
      "execution_count": null,
      "outputs": []
    },
    {
      "cell_type": "markdown",
      "source": [
        "# (20%) Ejercicio 4\n",
        "\n",
        "Al final del bloque completaremos un programa que permita calcular la calificación final de un curso de acuerdo al porcentaje de ponderación y a la calificación obtenida en cada tarea.\n",
        "\n",
        "En este ejercicio debes solicitar al usuario, con la función ```input``` o por medio de formularios, las ponderaciones de cada una de las 4 tareas de un curso. También, debes solicitarle la calificación obtenida y el nombre de cada tarea.\n",
        "\n",
        "Toda la información adquirida debe ser almacenada en un diccionario (revisa los cuadernos de práctica y los módulos de Canvas donde se presenta el concepto). Luego, calcularás la calificación global del curso para finalmente presentar un resumen del desempeño del usuario."
      ],
      "metadata": {
        "id": "O9hQ5pkrz8qy"
      }
    },
    {
      "cell_type": "code",
      "source": [
        "# Desarrolle su ejercicio aquí.\n"
      ],
      "metadata": {
        "id": "3U8lr0312Iq8"
      },
      "execution_count": null,
      "outputs": []
    },
    {
      "cell_type": "markdown",
      "source": [
        "# (20%) Video\n",
        "\n",
        "Realiza un video donde se explique detalladamente la realización de los ejercicios, el video se debe de guardar en google drive o YouTube y compartir mediante enlace, en el caso de drive recordar dar permisos de visualización a la cuenta de correo institucional del docente.\n"
      ],
      "metadata": {
        "id": "1jzMeRKpDAJf"
      }
    },
    {
      "cell_type": "markdown",
      "source": [
        "[Ubica aquí el enlace a tu video](https://)"
      ],
      "metadata": {
        "id": "0h1zaSIYDcfu"
      }
    }
  ]
}