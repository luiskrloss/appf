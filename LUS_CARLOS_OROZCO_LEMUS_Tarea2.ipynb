{
  "nbformat": 4,
  "nbformat_minor": 0,
  "metadata": {
    "colab": {
      "provenance": [],
      "include_colab_link": true
    },
    "kernelspec": {
      "name": "python3",
      "display_name": "Python 3"
    },
    "language_info": {
      "name": "python"
    }
  },
  "cells": [
    {
      "cell_type": "markdown",
      "metadata": {
        "id": "view-in-github",
        "colab_type": "text"
      },
      "source": [
        "<a href=\"https://colab.research.google.com/github/luiskrloss/appf/blob/main/LUS_CARLOS_OROZCO_LEMUS_Tarea2.ipynb\" target=\"_parent\"><img src=\"https://colab.research.google.com/assets/colab-badge.svg\" alt=\"Open In Colab\"/></a>"
      ]
    },
    {
      "cell_type": "markdown",
      "source": [
        "<div align=\"left\">\n",
        "<p><img alt=\"IUDigital\" height=\"140px\" src=\"https://www.iudigital.edu.co/Style%20Library/images/logo-escudo.png\" align=\"left\" hspace=\"10px\" vspace=\"0px\"></p></div>\n",
        "<div> </div>\n",
        "<div align=\"right\">\n",
        "<p><img alt=\"Posgrado\" height=\"140px\" src=\"https://www.iudigital.edu.co/OfertaEducativa/PublishingImages/Paginas/Tecnologia-en-Desarrollo-de-Software/19072021_Tecnologia_Dllo_Software_1200px.jpg\" align=\"right\" hspace=\"10px\" vspace=\"10px\"></p></div>\n",
        "<br></br>\n",
        "<br></br>\n",
        "<br></br>\n",
        "<br></br>\n",
        "<p>\n",
        "<h1> <b> Pensamiento Algorítmico </b> </h1>\n",
        "<hr size=10 noshade color=\"red\">\n",
        "</p>\n",
        "<p>\n",
        "<img alt=\"CC\" height=\"70px\" src=\"https://creativecommons.org/images/deed/cc_blue_x2.png\" align=\"left\" hspace=\"0px\" vspace=\"0px\">\n",
        "<img alt=\"Attribution\" height=\"70px\" src=\"https://creativecommons.org/images/deed/attribution_icon_blue_x2.png\" align=\"left\" hspace=\"0px\" vspace=\"0px\">\n",
        "<img alt=\"NC\" height=\"70px\" src=\"https://creativecommons.org/images/deed/nc_blue_x2.png\" align=\"left\" hspace=\"0px\" vspace=\"0px\">\n",
        "<img alt=\"SA\" height=\"70px\" src=\"https://creativecommons.org/images/deed/sa_blue_x2.png\" align=\"left\" hspace=\"0px\" vspace=\"0px\">\n",
        "</p>\n",
        "\n",
        "<br>"
      ],
      "metadata": {
        "id": "VuipZbrNx6G9"
      }
    },
    {
      "cell_type": "markdown",
      "metadata": {
        "id": "Pm5smIuSNTUw"
      },
      "source": [
        "# **Tarea 2**\n",
        "\n",
        "> Temas: Condicionales (estructuras de control) y colecciones de Python.\n",
        "\n",
        "Antes de resolver los ejercicios de esta tarea es importante:\n",
        "\n",
        "1. Haber asistido de manera sincrónica o haber visto las grabaciones de todas las clases y AAA de las semanas 1 a 4.\n",
        "2. Leer toda la Unidad 1 de los módulos en Canvas y la Unidad 2 por lo menos hasta el módulo: *Estructuras de almacenamiento. Métodos de Conjuntos*\n",
        "3. Leer e interactuar con el cuaderno de práctica 4, disponible en el Google Classroom.\n",
        "4. Haber realizado correctamente la Tarea 1.\n",
        "\n",
        "Al inicio de cada ejercicio se encuentra el porcentaje de ponderación con el cual se calculará la nota final de esta tarea."
      ]
    },
    {
      "cell_type": "markdown",
      "source": [
        "# (20%) Ejercicio 1\n",
        "Vamos a mejorar la solución del Ejercicio 1 - Tarea 1.\n",
        "Realice conversiones entre las unidades de medida presentadas en la siguiente tabla:\n",
        "\n",
        "| Índice | Conversión                           | Factor |\n",
        "|:------:|--------------------------------------|:------:|\n",
        "| 0      | Kilómetro a metro                    | 1000   |\n",
        "| 1      | Centímetro a metro                   | 0.01   |\n",
        "| 2      | Kilómetro por hora a millas por hora | 0.62   |\n",
        "| 3      | Nota en Educatic a nota en Canvas    | 20     |\n",
        "| 4      | Nota en Canvas a nota en Educatic    | 0.05   |\n",
        "| 5      | Mililitro a centímetro cúbico        | 1      |\n",
        "| 6      | Dólar (USA) a peso colombiano        |Actualizar|\n",
        "| 7      | Peso colombiano a dólar (USA)        |Actualizar|\n",
        "| 8      | Libra a kilogramo                    | 0.45   |\n",
        "| 9     | Minuto luz a kilómetro               | 17987539.67|\n",
        "\n",
        "Para este ejercicio se deben almacenar los factores de conversión en un vector (tipo de dato ```list``` de Python) para luego:\n",
        "\n",
        "- Solicitar al usuario que escoja el tipo de conversión que quiere realizar, para esto hay dos opciones:\n",
        " - Si trabajas en Google Colab puedes usar una lista desplegable, que es un tipo de campo de [formulario](https://www.youtube.com/watch?v=vx7yOZ5_Cw8) llamado *dropdown*\n",
        " - Si trabajas en otro editor puedes imprimir un menú de opciones numeradas y solicitarle al usuario que ingrese con ```input```el número de la opción que le interesa.\n",
        "\n",
        "- Solicitar al usuario que ingrese por formulario el dato que quiere convertir.\n",
        "- Realizar una estructura de selección que convierta el dato ingresado por el usuario según el tipo de conversión que ha escogido.\n",
        "\n",
        "Al igual que en la Tarea 1, se debe acceder al factor de conversión correspondiente de acuerdo a su posición o índice en el vector de factores de conversión.\n"
      ],
      "metadata": {
        "id": "bKdLoL-voFJb"
      }
    },
    {
      "cell_type": "code",
      "source": [
        "#@title datos de conversion\n",
        "eleccion=\"minuto luz a kilometro\" #@param [\"kilometro a metro\", \"centimetro a metro\", \"kilometros hora a millas hora\", \"nota  educatic a nota canvas\", \"nota canvas a nota educatic\", \"mililitro a centimetro cubico\", \"us dolar a peso colombiano\", \"peso colombiano a  us dolar\", \"libra a kilogramo\", \"minuto luz a kilometro\"]\n",
        "\n",
        "valores=[1000,0.01,0.62,20,0.05,1,4200,0.0002,0.45,17987539.67]\n",
        "\n",
        "datos= float(input(\"ingrese el valor a convertir \"))\n",
        "\n",
        "if (eleccion==\"kilometro a metro\"):\n",
        "    resultado= datos * valores[0]\n",
        "    print(\"el valor equivalente de convertir es\", resultado, \" metros\")\n",
        "\n",
        "elif (eleccion==\"centimetro a metro\"):\n",
        "    resultado= datos * valores[1]\n",
        "    print(\"el valor equivalente de convertir es\", resultado, \" metros\")\n",
        "\n",
        "elif (eleccion==\"kilometros hora a millas hora\"):\n",
        "    resultado= datos * valores[2]\n",
        "    print(\"el valor equivalente de convertir es\", resultado, \" millas hora\")\n",
        "\n",
        "elif (eleccion==\"nota educatic a nota canvas\"):\n",
        "    resultado= datos * valores[3]\n",
        "    print(\"el valor equivalente de convertir es\", resultado, \" notas en canvas\")\n",
        "\n",
        "elif (eleccion==\" nota canvas a nota educatic\"):\n",
        "    resultado= datos * valores[4]\n",
        "    print(\"el valor equivalente de convertir es\", resultado, \" notas en educatic\")\n",
        "\n",
        "elif (eleccion==\"mililitro a centimetro cubico\"):\n",
        "    resultado= datos * valores[5]\n",
        "    print(\"el valor equivalente de convertir es\", resultado, \" centimetros cubicos\")\n",
        "\n",
        "elif (eleccion==\"us dolar a peso colombiano\"):\n",
        "    resultado= datos * valores[6]\n",
        "    print(\"el valor equivalente de convertir es\", resultado, \" pesos colombianos\")\n",
        "\n",
        "elif (eleccion==\"peso colombiano a us dolar\"):\n",
        "    resultado= datos * valores[7]\n",
        "    print(\"el valor equivalente de convertir es\", resultado, \" us dolar\")\n",
        "\n",
        "elif (eleccion==\"libra a kilogramo\"):\n",
        "    resultado= datos * valores[8]\n",
        "    print(\"el valor equivalente de convertir es\", resultado, \" kilogramo\")\n",
        "\n",
        "elif (eleccion==\"minuto luz a kilometro\"):\n",
        "    resultado= datos * valores[9]\n",
        "    print(\"el valor equivalente de convertir es\", resultado, \" kilometros\")\n",
        "\n",
        "\n",
        "\n"
      ],
      "metadata": {
        "id": "DI-7bqMszeeV",
        "colab": {
          "base_uri": "https://localhost:8080/"
        },
        "outputId": "ea986e8c-0a3a-417e-c44a-0edbc6e6d666"
      },
      "execution_count": null,
      "outputs": [
        {
          "output_type": "stream",
          "name": "stdout",
          "text": [
            "ingrese el valor a convertir 25\n",
            "el valor equivalente de convertir es 449688491.75000006  kilometro\n"
          ]
        }
      ]
    },
    {
      "cell_type": "markdown",
      "source": [
        "# (20%) Ejercicio 2\n",
        "\n",
        "La tienda de videojuegos “MeroGamers” ofrece descuentos a sus compradores de acuerdo con la consola y la cantidad de videojuegos comprados.\n",
        "La tienda vende juegos nuevos para tres consolas con sus respectivos precios en dólares (USD)\n",
        "\n",
        "*   Nintendo Switch\n",
        ">*   Valor juego \\$60USD\n",
        "*   Xbox Series X|S\n",
        ">*   Valor juego \\$60USD\n",
        "*   Play Station 5\n",
        ">*   Valor juego \\$70USD\n",
        "\n",
        "La tienda ofrece descuentos de acuerdo con los siguientes criterios.\n",
        "\n",
        "*   Descuento del 10%\n",
        ">*   La tienda ofrece un descuento del 10% si compra dos juegos de cualquier consola o dos juegos de diferente consola.\n",
        "*   Descuento del 20%\n",
        ">*   La tienda ofrece un descuento del 20% si sucede alguna de las siguientes opciones:\n",
        ">>*   Compra tres juegos de una única consola cualquiera.\n",
        ">>*   Compra dos juegos de una misma consola y uno de otra consola diferente.\n",
        "*   Descuento del 30%\n",
        ">*   La tienda ofrece un descuento del 30% si realiza compras superiores a \\$250 USD, pero debe comprar juegos de al menos dos consolas.\n",
        "*   Descuento del 40%\n",
        ">*   La tienda ofrece un descuento del 40% si realiza compras superiores a \\$2500 USD sin limitaciones.\n",
        "\n",
        "\n",
        "Realizar un algoritmo el cual, mediante el uso de formularios, permita:\n",
        "* Determinar la cantidad de juegos comprados\n",
        "* Calcular el valor total antes de descuento y sin iva\n",
        "* Calcular el valor del descuento\n",
        "* Adicionar un IVA de un 19% al monto total de la compra después de haber adicionado el descuento.\n",
        "\n",
        "La impresión de los resultados debe ser multilínea usando caracteres especiales.\n"
      ],
      "metadata": {
        "id": "DcMoHWegYPDU"
      }
    },
    {
      "cell_type": "code",
      "source": [
        "\n",
        "# Desarrolle su ejercicio aquí.\n",
        "\n",
        "\n",
        "consolas={}\n",
        "\n",
        "comprast=0\n",
        "\n",
        "for i in range(1):\n",
        "    consolas[\"nintendo\"] = int(input(\"cuantos juegos de nintendo comprara \"))\n",
        "    consolas[\"xbox\"] = int(input(\"cuantos juegos de xbox comprara  \"))\n",
        "    consolas[\"play5\"] = int(input(\"cuantos juegos de play5 comprara  \"))\n",
        "    compras=consolas['nintendo']+ consolas['xbox']+ consolas['play5']\n",
        "    comprast+=compras\n",
        "\n",
        "    resultado=consolas[\"nintendo\"]*60\n",
        "    resultado1=consolas[\"xbox\"]*60\n",
        "    resultado2=consolas[\"play5\"]*70\n",
        "    resultado_final=resultado + resultado1 + resultado2\n",
        "\n",
        "    print(\"-----------\")\n",
        "\n",
        "    for clave, valor in consolas.items():\n",
        "     print(clave + \": \" + str(valor))\n",
        "     print(\"-----------\")\n",
        "\n",
        "print(\"compras totales \", comprast )\n",
        "print(\"el subtotal es de: \", resultado_final)\n",
        "\n",
        "if(comprast == 2):\n",
        "  descuento=0.1*resultado_final\n",
        "  print(\"su descuento es de: \", descuento)\n",
        "\n",
        "elif(comprast == 3):\n",
        "  descuento=0.2*resultado_final\n",
        "  print(\"su descuento es de: \", descuento)\n",
        "\n",
        "\n",
        "elif(resultado_final > 250 and consolas[\"nintendo\"]>=1,):\n",
        "  descuento=0.4*resultado_final\n",
        "  print(\"su descuento es de: \", descuento)\n",
        "\n",
        "elif(resultado_final > 2500):\n",
        "  descuento=0.4*resultado_final\n",
        "  print(\"su descuento es de: \", descuento)\n",
        "\n",
        "\n",
        "\n",
        "\n",
        "\n",
        "\n",
        "\n",
        "\n",
        "\n",
        "\n",
        "\n",
        "\n",
        "\n",
        "\n",
        "\n",
        "\n",
        "\n",
        "\n",
        "\n"
      ],
      "metadata": {
        "id": "KXTJ4OTc2Q2G",
        "colab": {
          "base_uri": "https://localhost:8080/"
        },
        "outputId": "50cd2f59-004c-45a5-fc42-e330299fc74f"
      },
      "execution_count": 43,
      "outputs": [
        {
          "output_type": "stream",
          "name": "stdout",
          "text": [
            "cuantos juegos de nintendo comprara 2\n",
            "cuantos juegos de xbox comprara  1\n",
            "cuantos juegos de play5 comprara  0\n",
            "-----------\n",
            "nintendo: 2\n",
            "-----------\n",
            "xbox: 1\n",
            "-----------\n",
            "play5: 0\n",
            "-----------\n",
            "compras totales  3\n",
            "el subtotal es de:  180\n",
            "su descuento es de:  36.0\n"
          ]
        }
      ]
    },
    {
      "cell_type": "markdown",
      "source": [
        "# (20%) Ejercicio 3\n",
        "\n",
        "Propiedades de los triángulos.\n",
        "*   Si tenemos tres segmentos de cualquier longitud, no siempre se puede construir un triángulo con ellos. En cualquier triángulo, la suma de dos de sus lados siempre es mayor que el tercer lado.\n",
        "*   La suma de los ángulos de un triángulo es igual a 180°.\n",
        "\n",
        "De acuerdo con la información descrita previamente, y haciendo uso de la función `input` realizar un algoritmo que reciba tres lados y tres ángulos y determine si puede dibujarse un triángulo, en caso contrario indicar qué  problemas presenta.\n",
        "\n"
      ],
      "metadata": {
        "id": "nHnp-5M12S5O"
      }
    },
    {
      "cell_type": "code",
      "source": [
        "# Desarrolle su ejercicio aquí.\n",
        "lado1 = float(input(\"Ingrese la longitud del primer lado: \"))\n",
        "lado2 = float(input(\"Ingrese la longitud del segundo lado: \"))\n",
        "lado3 = float(input(\"Ingrese la longitud del tercer lado: \"))\n",
        "\n",
        "angulo1 = float(input(\"Ingrese el valor del primer ángulo: \"))\n",
        "angulo2 = float(input(\"Ingrese el valor del segundo ángulo: \"))\n",
        "angulo3 = float(input(\"Ingrese el valor del tercer ángulo: \"))\n",
        "\n",
        "\n",
        "if lado1 + lado2 > lado3 and lado1 + lado3 > lado2 and lado2 + lado3 > lado1 and angulo1 + angulo2 + angulo3 == 180:\n",
        "  print(\"¡Es posible construir un triángulo con los lados y ángulos dados!\")\n",
        "else:\n",
        " print(\"No se puede construir un triángulo no se cumple con los requisitos de lados y angulos.\")\n",
        "\n"
      ],
      "metadata": {
        "id": "EHCmPjlU2Ruz",
        "colab": {
          "base_uri": "https://localhost:8080/",
          "height": 380
        },
        "outputId": "8fbb566a-e0ec-44bf-925d-e3486411af70"
      },
      "execution_count": 32,
      "outputs": [
        {
          "output_type": "error",
          "ename": "KeyboardInterrupt",
          "evalue": "ignored",
          "traceback": [
            "\u001b[0;31m---------------------------------------------------------------------------\u001b[0m",
            "\u001b[0;31mKeyboardInterrupt\u001b[0m                         Traceback (most recent call last)",
            "\u001b[0;32m<ipython-input-32-272e21fd99a4>\u001b[0m in \u001b[0;36m<cell line: 2>\u001b[0;34m()\u001b[0m\n\u001b[1;32m      1\u001b[0m \u001b[0;31m# Desarrolle su ejercicio aquí.\u001b[0m\u001b[0;34m\u001b[0m\u001b[0;34m\u001b[0m\u001b[0m\n\u001b[0;32m----> 2\u001b[0;31m \u001b[0mlado1\u001b[0m \u001b[0;34m=\u001b[0m \u001b[0mfloat\u001b[0m\u001b[0;34m(\u001b[0m\u001b[0minput\u001b[0m\u001b[0;34m(\u001b[0m\u001b[0;34m\"Ingrese la longitud del primer lado: \"\u001b[0m\u001b[0;34m)\u001b[0m\u001b[0;34m)\u001b[0m\u001b[0;34m\u001b[0m\u001b[0;34m\u001b[0m\u001b[0m\n\u001b[0m\u001b[1;32m      3\u001b[0m \u001b[0mlado2\u001b[0m \u001b[0;34m=\u001b[0m \u001b[0mfloat\u001b[0m\u001b[0;34m(\u001b[0m\u001b[0minput\u001b[0m\u001b[0;34m(\u001b[0m\u001b[0;34m\"Ingrese la longitud del segundo lado: \"\u001b[0m\u001b[0;34m)\u001b[0m\u001b[0;34m)\u001b[0m\u001b[0;34m\u001b[0m\u001b[0;34m\u001b[0m\u001b[0m\n\u001b[1;32m      4\u001b[0m \u001b[0mlado3\u001b[0m \u001b[0;34m=\u001b[0m \u001b[0mfloat\u001b[0m\u001b[0;34m(\u001b[0m\u001b[0minput\u001b[0m\u001b[0;34m(\u001b[0m\u001b[0;34m\"Ingrese la longitud del tercer lado: \"\u001b[0m\u001b[0;34m)\u001b[0m\u001b[0;34m)\u001b[0m\u001b[0;34m\u001b[0m\u001b[0;34m\u001b[0m\u001b[0m\n\u001b[1;32m      5\u001b[0m \u001b[0;34m\u001b[0m\u001b[0m\n",
            "\u001b[0;32m/usr/local/lib/python3.10/dist-packages/ipykernel/kernelbase.py\u001b[0m in \u001b[0;36mraw_input\u001b[0;34m(self, prompt)\u001b[0m\n\u001b[1;32m    849\u001b[0m                 \u001b[0;34m\"raw_input was called, but this frontend does not support input requests.\"\u001b[0m\u001b[0;34m\u001b[0m\u001b[0;34m\u001b[0m\u001b[0m\n\u001b[1;32m    850\u001b[0m             )\n\u001b[0;32m--> 851\u001b[0;31m         return self._input_request(str(prompt),\n\u001b[0m\u001b[1;32m    852\u001b[0m             \u001b[0mself\u001b[0m\u001b[0;34m.\u001b[0m\u001b[0m_parent_ident\u001b[0m\u001b[0;34m,\u001b[0m\u001b[0;34m\u001b[0m\u001b[0;34m\u001b[0m\u001b[0m\n\u001b[1;32m    853\u001b[0m             \u001b[0mself\u001b[0m\u001b[0;34m.\u001b[0m\u001b[0m_parent_header\u001b[0m\u001b[0;34m,\u001b[0m\u001b[0;34m\u001b[0m\u001b[0;34m\u001b[0m\u001b[0m\n",
            "\u001b[0;32m/usr/local/lib/python3.10/dist-packages/ipykernel/kernelbase.py\u001b[0m in \u001b[0;36m_input_request\u001b[0;34m(self, prompt, ident, parent, password)\u001b[0m\n\u001b[1;32m    893\u001b[0m             \u001b[0;32mexcept\u001b[0m \u001b[0mKeyboardInterrupt\u001b[0m\u001b[0;34m:\u001b[0m\u001b[0;34m\u001b[0m\u001b[0;34m\u001b[0m\u001b[0m\n\u001b[1;32m    894\u001b[0m                 \u001b[0;31m# re-raise KeyboardInterrupt, to truncate traceback\u001b[0m\u001b[0;34m\u001b[0m\u001b[0;34m\u001b[0m\u001b[0m\n\u001b[0;32m--> 895\u001b[0;31m                 \u001b[0;32mraise\u001b[0m \u001b[0mKeyboardInterrupt\u001b[0m\u001b[0;34m(\u001b[0m\u001b[0;34m\"Interrupted by user\"\u001b[0m\u001b[0;34m)\u001b[0m \u001b[0;32mfrom\u001b[0m \u001b[0;32mNone\u001b[0m\u001b[0;34m\u001b[0m\u001b[0;34m\u001b[0m\u001b[0m\n\u001b[0m\u001b[1;32m    896\u001b[0m             \u001b[0;32mexcept\u001b[0m \u001b[0mException\u001b[0m \u001b[0;32mas\u001b[0m \u001b[0me\u001b[0m\u001b[0;34m:\u001b[0m\u001b[0;34m\u001b[0m\u001b[0;34m\u001b[0m\u001b[0m\n\u001b[1;32m    897\u001b[0m                 \u001b[0mself\u001b[0m\u001b[0;34m.\u001b[0m\u001b[0mlog\u001b[0m\u001b[0;34m.\u001b[0m\u001b[0mwarning\u001b[0m\u001b[0;34m(\u001b[0m\u001b[0;34m\"Invalid Message:\"\u001b[0m\u001b[0;34m,\u001b[0m \u001b[0mexc_info\u001b[0m\u001b[0;34m=\u001b[0m\u001b[0;32mTrue\u001b[0m\u001b[0;34m)\u001b[0m\u001b[0;34m\u001b[0m\u001b[0;34m\u001b[0m\u001b[0m\n",
            "\u001b[0;31mKeyboardInterrupt\u001b[0m: Interrupted by user"
          ]
        }
      ]
    },
    {
      "cell_type": "markdown",
      "source": [
        "# (20%) Ejercicio 4\n",
        "\n",
        "Al final del bloque completaremos un programa que permita calcular la calificación final de un curso de acuerdo al porcentaje de ponderación y a la calificación obtenida en cada tarea.\n",
        "\n",
        "En este ejercicio debes solicitar al usuario, con la función ```input``` o por medio de formularios, las ponderaciones de cada una de las 4 tareas de un curso. También, debes solicitarle la calificación obtenida y el nombre de cada tarea.\n",
        "\n",
        "Toda la información adquirida debe ser almacenada en un diccionario (revisa los cuadernos de práctica y los módulos de Canvas donde se presenta el concepto). Luego, calcularás la calificación global del curso para finalmente presentar un resumen del desempeño del usuario."
      ],
      "metadata": {
        "id": "O9hQ5pkrz8qy"
      }
    },
    {
      "cell_type": "code",
      "source": [
        "datos = {}  # Diccionario para almacenar los valores ingresados\n",
        "ponderacion_final=0\n",
        "\n",
        "for i in range(4):\n",
        "\n",
        "    datos[\"tarea\"] = input(\"Ingrese el nombre de la tarea \")\n",
        "    datos[\"nota\"] = float(input(\"Ingrese la nota: \"))\n",
        "    datos[\"porcentaje\"] = float(input(\"Ingrese el porcentaje al cual equivale: \"))\n",
        "    resultado=datos[\"nota\"]*datos[\"porcentaje\"]\n",
        "    ponderacion_final +=resultado\n",
        "\n",
        "\n",
        "    print(\"-----------\")\n",
        "\n",
        "    for clave, valor in datos.items():\n",
        "     print(clave + \": \" + str(valor))\n",
        "     print(\"-----------\")\n",
        "\n",
        "print(\"la nota final es : \", ponderacion_final)\n",
        "\n",
        "\n",
        "\n",
        "\n",
        "\n",
        "\n",
        "\n"
      ],
      "metadata": {
        "id": "3U8lr0312Iq8",
        "colab": {
          "base_uri": "https://localhost:8080/"
        },
        "outputId": "c9602b8b-be34-4a87-ae89-adda35d4bcf8"
      },
      "execution_count": 24,
      "outputs": [
        {
          "output_type": "stream",
          "name": "stdout",
          "text": [
            "Ingrese el nombre de la tarea taller\n",
            "Ingrese la nota: 3.5\n",
            "Ingrese el porcentaje al cual equivale: 0.2\n",
            "-----------\n",
            "tarea: taller\n",
            "-----------\n",
            "nota: 3.5\n",
            "-----------\n",
            "porcentaje: 0.2\n",
            "-----------\n",
            "Ingrese el nombre de la tarea eval\n",
            "Ingrese la nota: 4.2\n",
            "Ingrese el porcentaje al cual equivale: 0.2\n",
            "-----------\n",
            "tarea: eval\n",
            "-----------\n",
            "nota: 4.2\n",
            "-----------\n",
            "porcentaje: 0.2\n",
            "-----------\n",
            "Ingrese el nombre de la tarea re\n",
            "Ingrese la nota: 2.9\n",
            "Ingrese el porcentaje al cual equivale: 0.2\n",
            "-----------\n",
            "tarea: re\n",
            "-----------\n",
            "nota: 2.9\n",
            "-----------\n",
            "porcentaje: 0.2\n",
            "-----------\n",
            "Ingrese el nombre de la tarea gr\n",
            "Ingrese la nota: 3.8\n",
            "Ingrese el porcentaje al cual equivale: 0.4\n",
            "-----------\n",
            "tarea: gr\n",
            "-----------\n",
            "nota: 3.8\n",
            "-----------\n",
            "porcentaje: 0.4\n",
            "-----------\n",
            "la nota final es :  3.64\n"
          ]
        }
      ]
    },
    {
      "cell_type": "markdown",
      "source": [
        "# (20%) Video\n",
        "\n",
        "Realiza un video donde se explique detalladamente la realización de los ejercicios, el video se debe de guardar en google drive o YouTube y compartir mediante enlace, en el caso de drive recordar dar permisos de visualización a la cuenta de correo institucional del docente.\n"
      ],
      "metadata": {
        "id": "1jzMeRKpDAJf"
      }
    },
    {
      "cell_type": "markdown",
      "source": [
        "[Ubica aquí el enlace a tu video](https://)"
      ],
      "metadata": {
        "id": "0h1zaSIYDcfu"
      }
    }
  ]
}